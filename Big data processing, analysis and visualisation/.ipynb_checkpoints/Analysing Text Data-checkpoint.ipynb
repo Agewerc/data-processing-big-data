{
 "cells": [
  {
   "cell_type": "markdown",
   "metadata": {},
   "source": [
    "# Assignment 1 - FIT5202 Data processing for Big Data\n",
    "\n",
    "##  Part A: Analysing Text Data\n",
    "\n",
    "In this part,we will look into modern software development methodologies.The everyday job of a data scientist/data engineer/software engineer involves working in a project team and following software development methodologies to develop software products or do data analysis.To prepare for such a career,it would be useful to have knowledge on the common software development methodologies. In this assignment,we will analyse two books on software development methodologies.We will see the distribution of words,the most common words in both books and the average frequency.This approach can also be scaled to find the most common words andd istribution of all words in the Internet.\n",
    "<br>\n",
    "### Step 01: Import ​pyspark ​and initialize Spark\n",
    "Pyspark is the SparkPython API that exposes the Spark programming model to Python. SparkContext is the main entry point for Spark functionality. In Spark, communication occurs between a driver and executors. The driver has Spark jobs that it needs to run and these jobs are split into tasks that are submitted to the executors for completion. The results from these tasks are delivered back to the driver. In order to use Spark and its API,we will need to use a SparkContext. When running Spark, you start a new Spark application by creating as park Context. When the Spark Context is created, it asks the master for some cores to use to do the processing.The master sets these cores aside; they won’t be used for other applications. **Write the code** to create a SparkContext object, which tells Spark how to access a cluster.To create a Spark Context you first need to build a SparkConf object that contains information about your application. Give an appropriate name for your application and run Spark locally with as many working processors as logical cores on your machine."
   ]
  },
  {
   "cell_type": "code",
   "execution_count": 1,
   "metadata": {},
   "outputs": [],
   "source": [
    "# create entry points to spark\n",
    "from pyspark import SparkContext, SparkConf # Spark\n",
    "from pyspark.sql import SparkSession\n",
    "\n",
    "sc = SparkContext.getOrCreate()\n",
    "\n",
    "# We will build a configuration \n",
    "conf = SparkConf()\n",
    "conf.set(\"spark.app.name\", \"Assignment 1\")\n",
    "conf.set(\"spark.master\", \"local[*]\")\n",
    "\n",
    "# If there is no existing spark context, we now create a new context\n",
    "if (sc is None):\n",
    "    sc = SparkContext(conf=conf)\n",
    "spark = SparkSession(sparkContext=sc)"
   ]
  },
  {
   "cell_type": "markdown",
   "metadata": {},
   "source": [
    "### Step 02: Create Resilient Distributed Datasets (RDDs)\n",
    "\n",
    "A SparkContext can be used to create Resilient Distributed Datasets (RDDs) on a cluster. Write the code in pyspark to read the required dataset and display the total number of lines in each dataset.\n"
   ]
  },
  {
   "cell_type": "code",
   "execution_count": 2,
   "metadata": {},
   "outputs": [],
   "source": [
    "# Transforming the Data in RDDs \n",
    "scrum_rdd = sc.textFile('Datasets\\Scrum Handbook.txt')\n",
    "agile_rdd = sc.textFile('Datasets\\Agile Processes  in Software Engineering  and Extreme Programming.txt')"
   ]
  },
  {
   "cell_type": "code",
   "execution_count": 3,
   "metadata": {},
   "outputs": [
    {
     "name": "stdout",
     "output_type": "stream",
     "text": [
      "Number of lines in Scrum Handbook:  4617\n",
      "Number of lines in Agile Processes in Software Engineering and Extreme Programming:  21569\n"
     ]
    }
   ],
   "source": [
    "# Counting and display the number of lines\n",
    "print('Number of lines in Scrum Handbook: ', scrum_rdd.count())\n",
    "print('Number of lines in Agile Processes in Software Engineering and Extreme Programming: ', agile_rdd.count())"
   ]
  },
  {
   "cell_type": "markdown",
   "metadata": {},
   "source": [
    "### Step 03: Cleaning/Manipulating text.\n",
    "Words should be counted independent of their case. So, you will have to change all words to lower case. Further, if there are any leading or trailing spaces on a line, it should be removed. Write a function that performs the following tasks on the RDDs: <br>\n",
    "1.Removes all characters which are not alphabets except space(s).<br>\n",
    "2.Changes all upper case letters to lowercase.<br>\n",
    "3.Removes all leading or trailing spaces. <br>\n",
    "You can use the python module re for matching patterns. Finally, display the contents ofthe RDDs after applying the function."
   ]
  },
  {
   "cell_type": "code",
   "execution_count": 4,
   "metadata": {},
   "outputs": [],
   "source": [
    "import re # we will use the library regex for this assigment"
   ]
  },
  {
   "cell_type": "code",
   "execution_count": 5,
   "metadata": {},
   "outputs": [],
   "source": [
    "patternSpecialChar = r'[^a-zA-Z\\s]*' # this regex pattern will identify any digit or special character"
   ]
  },
  {
   "cell_type": "code",
   "execution_count": 6,
   "metadata": {},
   "outputs": [
    {
     "data": {
      "text/plain": [
       "['jeff sutherlands',\n",
       " '',\n",
       " 'scrum handbook',\n",
       " '',\n",
       " '',\n",
       " '',\n",
       " '',\n",
       " 'everything',\n",
       " 'you need',\n",
       " 'to know']"
      ]
     },
     "execution_count": 6,
     "metadata": {},
     "output_type": "execute_result"
    }
   ],
   "source": [
    "# Cleaning the scrum_rdd\n",
    "scrum_rdd = scrum_rdd.map(lambda x: re.sub(patternSpecialChar , '', x)) # removing digits and special characters\n",
    "scrum_rdd = scrum_rdd.map(lambda x: x.lower()) # Change uppercase to lowercase\n",
    "scrum_rdd = scrum_rdd.map(lambda x: x.strip()) # remove trailing spaces\n",
    "scrum_rdd.take(10)"
   ]
  },
  {
   "cell_type": "code",
   "execution_count": 7,
   "metadata": {},
   "outputs": [
    {
     "data": {
      "text/plain": [
       "['lnbip',\n",
       " '',\n",
       " '',\n",
       " 'i helen sharp',\n",
       " '',\n",
       " 'tracy hall eds',\n",
       " '',\n",
       " 'agile processes',\n",
       " 'in software engineering',\n",
       " 'and extreme programming']"
      ]
     },
     "execution_count": 7,
     "metadata": {},
     "output_type": "execute_result"
    }
   ],
   "source": [
    "# Cleaning the agile_rdd\n",
    "agile_rdd = agile_rdd.map(lambda x: re.sub(patternSpecialChar , '', x)) # removing digits and special characters\n",
    "agile_rdd = agile_rdd.map(lambda x: x.lower()) # Change uppercase to lowercase\n",
    "agile_rdd = agile_rdd.map(lambda x: x.strip()) # remove trailing spaces\n",
    "agile_rdd.take(10)"
   ]
  },
  {
   "cell_type": "markdown",
   "metadata": {},
   "source": [
    "### Step 04: Transforming the Data/Counting the words  \n",
    "Apply a transformation that will split each element of the RDD by its spaces and then create a word pairs for e.g. ('agile',1), ('handbook',1). Then, count the frequency of each word and display the top 20 most frequent words."
   ]
  },
  {
   "cell_type": "code",
   "execution_count": 8,
   "metadata": {},
   "outputs": [
    {
     "data": {
      "text/plain": [
       "[('the', 1238),\n",
       " ('of', 537),\n",
       " ('and', 534),\n",
       " ('to', 477),\n",
       " ('a', 451),\n",
       " ('scrum', 395),\n",
       " ('in', 360),\n",
       " ('is', 348),\n",
       " ('team', 260),\n",
       " ('product', 232)]"
      ]
     },
     "execution_count": 8,
     "metadata": {},
     "output_type": "execute_result"
    }
   ],
   "source": [
    "# We will do the following steps in both RDDS\n",
    "# step 1: Create a flat RDD with every word and filter empty elements   \n",
    "# step 2: Generate keys and reduce by key to count the number of words\n",
    "# step 3: Sort the RDD\n",
    "\n",
    "count_scrum_words_list = scrum_rdd.flatMap(lambda x: x.split(\" \")).filter(lambda word: word != \"\")\n",
    "count_scrum_words_list = count_scrum_words_list.map(lambda x: (x, 1)).reduceByKey(lambda x, y: x + y)\n",
    "count_scrum_words_list.sortBy(lambda x: x[1], ascending=False).take(10)"
   ]
  },
  {
   "cell_type": "code",
   "execution_count": 9,
   "metadata": {},
   "outputs": [
    {
     "data": {
      "text/plain": [
       "[('the', 8145),\n",
       " ('and', 3965),\n",
       " ('of', 3944),\n",
       " ('to', 3714),\n",
       " ('in', 3076),\n",
       " ('a', 2701),\n",
       " ('is', 1539),\n",
       " ('that', 1355),\n",
       " ('for', 1194),\n",
       " ('as', 1028)]"
      ]
     },
     "execution_count": 9,
     "metadata": {},
     "output_type": "execute_result"
    }
   ],
   "source": [
    "# Repeating the previous steps\n",
    "count_agile_words_list = agile_rdd.flatMap(lambda x: x.split(\" \")).filter(lambda word: word != \"\")\n",
    "count_agile_words_list = count_agile_words_list.map(lambda x: (x, 1)).reduceByKey(lambda x, y: x + y)\n",
    "count_agile_words_list.sortBy(lambda x: x[1], ascending=False).take(10)"
   ]
  },
  {
   "cell_type": "markdown",
   "metadata": {},
   "source": [
    "### Step 05: Removing Stop Words\n",
    "In computing, stop words are words which are filtered out before or after processing of natural language data. In natural language processing, useless words(data), are referred to as stop words. We would not want these words taking up space in our database, or taking up valuable processing time. For this, we can remove them easily, by storing a list of words that you consider to be stopwords. NLTK(Natural Language Toolkit) in python has a list of stopwords stored in 16 different languages. Write the code to remove stopwords from the RDDs.You should use nltk package to remove the stop words. Also find how many unique words do we now have in each RDD?"
   ]
  },
  {
   "cell_type": "code",
   "execution_count": 10,
   "metadata": {},
   "outputs": [],
   "source": [
    "# Installing NLTK, downloading and importing stopwords  \n",
    "# !pip install nltk\n",
    "from nltk.corpus import stopwords\n",
    "import nltk\n",
    "# nltk.download('stopwords')\n",
    "stop_words = stopwords.words('english') # assignimg stopwords to a variable"
   ]
  },
  {
   "cell_type": "code",
   "execution_count": 11,
   "metadata": {},
   "outputs": [
    {
     "name": "stdout",
     "output_type": "stream",
     "text": [
      "There are 2936 unique words in the Scrum Handbook\n"
     ]
    }
   ],
   "source": [
    "# Filter stop words in both RDDs with a lambda function\n",
    "count_scrum_words_list = count_scrum_words_list.filter(lambda x: x[0] not in stop_words)\n",
    "print('There are', count_scrum_words_list.count(),'unique words in the Scrum Handbook')  # Display unique words"
   ]
  },
  {
   "cell_type": "code",
   "execution_count": 12,
   "metadata": {},
   "outputs": [
    {
     "name": "stdout",
     "output_type": "stream",
     "text": [
      "There are 9611 unique words in the Agile book\n"
     ]
    }
   ],
   "source": [
    "count_agile_words_list = count_agile_words_list.filter(lambda x: x[0] not in stop_words)\n",
    "print('There are', count_agile_words_list.count(),'unique words in the Agile book')  # Display unique words"
   ]
  },
  {
   "cell_type": "markdown",
   "metadata": {},
   "source": [
    "### Step 06: Find the average occurrence of a word\n",
    "To find the average occurrence of a word, you will have to find the total number of words and divide that by the number of unique words. Write the code to find the average occurrences of the words."
   ]
  },
  {
   "cell_type": "code",
   "execution_count": 13,
   "metadata": {
    "scrolled": false
   },
   "outputs": [
    {
     "name": "stdout",
     "output_type": "stream",
     "text": [
      "The average ocorrunce of words is 3.68 times\n"
     ]
    }
   ],
   "source": [
    "scrum_Total_words = count_scrum_words_list.values().sum()\n",
    "scrum_Total_unique_words = count_scrum_words_list.count()\n",
    "scrum_average_ocurrence = scrum_Total_words/scrum_Total_unique_words\n",
    "print('The average ocorrunce of words is', round(scrum_average_ocurrence,2), 'times')"
   ]
  },
  {
   "cell_type": "code",
   "execution_count": 14,
   "metadata": {},
   "outputs": [
    {
     "name": "stdout",
     "output_type": "stream",
     "text": [
      "The average ocorrunce of words is 8.23 times\n"
     ]
    }
   ],
   "source": [
    "agile_Total_words = count_agile_words_list.values().sum()\n",
    "agile_Total_unique_words = count_agile_words_list.count()\n",
    "agile_average_ocurrence = agile_Total_words/agile_Total_unique_words\n",
    "print('The average ocorrunce of words is', round(agile_average_ocurrence,2), 'times')"
   ]
  },
  {
   "cell_type": "markdown",
   "metadata": {},
   "source": [
    "### Step 7: Exploratory data analysis\n",
    "Analyze the distribution of the words using the standard python library - matplotlib. Please make sure you are aware of the different factors such as visual effects, coordinate system, labels, data type and scale and informative interpretation before data visualisation. Also consider other aspects of visualization like clarity, accuracy and efficiency as well. <br> \n",
    "- Compare the distribution of words in Book1 and Book2 The data spans many orders of magnitude and the features of the distribution not quite evident in the linear space. Therefore, use logscale(base10) to plot the graph. Explain your understanding based on the graphs. \n",
    "\n",
    "\n",
    "-------------------------------------------------------------------------------------------------------------------\n",
    "\n"
   ]
  },
  {
   "cell_type": "code",
   "execution_count": 15,
   "metadata": {},
   "outputs": [
    {
     "data": {
      "image/png": "[encoded data removed]",
      "text/plain": [
       "<Figure size 864x360 with 2 Axes>"
      ]
     },
     "metadata": {
      "needs_background": "light"
     },
     "output_type": "display_data"
    }
   ],
   "source": [
    "# part1\n",
    "# !pip install matplotlib\n",
    "import matplotlib.pyplot as plt # importing the visualization library\n",
    "%matplotlib inline\n",
    "\n",
    "# Transforming our variables into lists for plotting\n",
    "x1 = count_scrum_words_list.values().collect() \n",
    "x2 = count_agile_words_list.values().collect()\n",
    "\n",
    "\n",
    "f, (ax1, ax2) = plt.subplots(1, 2, figsize=(12,5), sharey=True)\n",
    "\n",
    "ax1.hist(x1, label = 'Scrum', color='#0c06f7',alpha=0.7, log = True, bins = 40)\n",
    "ax1.set_title('Scrum Handbook', fontsize = 17)\n",
    "ax1.set_ylabel('Word Frequency', fontsize = 12)\n",
    "ax1.grid(axis = 'y', alpha = 0.4)\n",
    "\n",
    "ax2.hist(x2, label = 'Agile', color='#61de2a',alpha=0.7, log = True , bins = 40)\n",
    "ax2.set_title('Agile Processes', fontsize = 17)\n",
    "ax2.grid(axis = 'y', alpha = 0.4)\n",
    "plt.tight_layout()\n",
    "plt.show()"
   ]
  },
  {
   "cell_type": "markdown",
   "metadata": {},
   "source": [
    "<font color = \"green\"><b>\n",
    "- The books have very similar distributions regarding their word frequencies. In both cases, the highest bin is the first one, that means the vast majority of words repeat itself very rarerly. \n",
    "    - In consequence, both books have a right skewed distribution. \n",
    "    - It is worth mentioning however, that the Scrum handbook is a little bit more concetraded, in other words has a smaller variance in its distribution. \n",
    "- Due to the fact that the books have different sizes, we cannot plot than over the same x axis to understand its distributions. The same is valid for the y_axis, and this is why we have applied the log scale.\n",
    "</font><b>"
   ]
  },
  {
   "cell_type": "markdown",
   "metadata": {},
   "source": [
    "- Compare the top 15 most common words in Book1 and Book2. Plot the graphs and explain your understanding of the graph."
   ]
  },
  {
   "cell_type": "code",
   "execution_count": 16,
   "metadata": {},
   "outputs": [],
   "source": [
    "# collecting the data for both books\n",
    "# spliting the data into lists \n",
    "# one for the words and the other for the count\n",
    "\n",
    "scrum_words_list_count = count_scrum_words_list.sortBy(lambda x: x[1], ascending=False).collect()[:15]\n",
    "scrum_words_list = [x[0] for x in scrum_words_list_count]\n",
    "scrum_words_count = [x[1] for x in scrum_words_list_count]\n",
    "\n",
    "agile_words_list_count = count_agile_words_list.sortBy(lambda x: x[1], ascending=False).collect()[:15]\n",
    "agile_words_list = [x[0] for x in agile_words_list_count]\n",
    "agile_words_count = [x[1] for x in agile_words_list_count]"
   ]
  },
  {
   "cell_type": "code",
   "execution_count": 17,
   "metadata": {},
   "outputs": [
    {
     "data": {
      "image/png": "[encoded data removed]",
      "text/plain": [
       "<Figure size 936x360 with 2 Axes>"
      ]
     },
     "metadata": {
      "needs_background": "light"
     },
     "output_type": "display_data"
    }
   ],
   "source": [
    "# plotting the chart\n",
    "# adjusting title, fontsize, structure,....\n",
    "\n",
    "import numpy as np # used as support for the charts regarding labels in the y axis\n",
    "\n",
    "f, (ax1, ax2) = plt.subplots(1, 2, figsize=(13,5), tight_layout=True)\n",
    "\n",
    "y_posax1 = np.arange(len(scrum_words_list))\n",
    "ax1.barh(y_posax1, scrum_words_count, color = 'c')\n",
    "ax1.set_yticks(y_posax1)\n",
    "ax1.set_yticklabels(scrum_words_list)\n",
    "ax1.invert_yaxis()  # labels read top-to-bottom\n",
    "ax1.set_title('Scrum Handbook', fontsize = 17)\n",
    "ax1.set_ylabel('Word Frequency', fontsize = 12)\n",
    "\n",
    "y_posax2 = np.arange(len(agile_words_list))\n",
    "ax2.barh(y_posax1, agile_words_count, color = 'b')\n",
    "ax2.set_yticks(y_posax1)\n",
    "ax2.set_yticklabels(agile_words_list)\n",
    "ax2.invert_yaxis()  # labels read top-to-bottom\n",
    "ax2.set_title('Agile Processes', fontsize = 17)\n",
    "\n",
    "plt.show()\n"
   ]
  },
  {
   "cell_type": "markdown",
   "metadata": {},
   "source": [
    "<font color = \"green\"><b>\n",
    "- Eight words are the at the top 15 most common at both books.\n",
    "    - The books are from the same field(computer science). Therefore, no surprise in the same words.\n",
    "- Again, very similar distributions, although variance is higher in scrum handbook. \n",
    "- Since the agile book is much bigger, it is expected that the word frequency is also much bigger.\n",
    "- Both books have an word from the title as the most common word.\n",
    "</font><b>"
   ]
  }
 ],
 "metadata": {
  "kernelspec": {
   "display_name": "Python 3",
   "language": "python",
   "name": "python3"
  },
  "language_info": {
   "codemirror_mode": {
    "name": "ipython",
    "version": 3
   },
   "file_extension": ".py",
   "mimetype": "text/x-python",
   "name": "python",
   "nbconvert_exporter": "python",
   "pygments_lexer": "ipython3",
   "version": "3.7.4"
  }
 },
 "nbformat": 4,
 "nbformat_minor": 2
}
