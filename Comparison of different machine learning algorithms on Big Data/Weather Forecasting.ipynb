{
 "cells": [
  {
   "cell_type": "markdown",
   "metadata": {},
   "source": [
    "# Assignment 2\n",
    "# FIT 5202 - Data processing for Big Data\n",
    "\n",
    "## Rain in Australia: Predict rain tomorrow in Australia\n",
    "Predicting rain or weather is a common problem in machine learning. Different machine learning algorithms can be used to model and predict rainfall. In this assignment, we ask you to complete the analysis to predict whether there will be rain tomorrow or not. In particular, you are required to apply the tools of machine learning to visualize and predict the possibility of rainfall in Australia.\n",
    "\n",
    "*Required Datasets (available in Moodle)*:\n",
    "- Rain in Australia **(weatherAUS.csv)**\n",
    "\n",
    "\n",
    "## Import Libraries"
   ]
  },
  {
   "cell_type": "code",
   "execution_count": 1,
   "metadata": {},
   "outputs": [],
   "source": [
    "from pyspark import SparkContext, SparkConf # Spark\n",
    "from pyspark.sql import SparkSession\n",
    "from pyspark.sql.functions import isnan, when, count, col\n",
    "from pyspark.sql.functions import *\n",
    "from pyspark.ml.feature import StringIndexer\n",
    "from pyspark.ml.linalg import Vectors\n",
    "from pyspark.ml.feature import VectorAssembler\n",
    "from pyspark.ml.evaluation import MulticlassClassificationEvaluator\n",
    "from pyspark.ml.classification import DecisionTreeClassifier\n",
    "from pyspark.ml.classification import LogisticRegression\n",
    "from pyspark.ml.classification import RandomForestClassifier\n",
    "from pyspark.ml.classification import GBTClassifier\n",
    "import matplotlib.pyplot as plt # importing the visualization library\n",
    "import numpy as np\n",
    "%matplotlib inline\n",
    "from pyspark.mllib.evaluation import MulticlassMetrics"
   ]
  },
  {
   "cell_type": "markdown",
   "metadata": {},
   "source": [
    "## A. Creating Spark Session and Loading the Data\n",
    "\n",
    "### Step 01: Import Spark Session and initialize Spark\n",
    "**pyspark** is the Spark Python API that exposes the Spark programming model to Python. You are already familiar with **sparkContext** from Assignment 1. **sparkContext** was used as a channel to access all spark functionality. In order to use APIs of SQL, HIVE, and Streaming, separate contexts need to be created. From SPARK 2.0.0 onwards **sparkSession** provides a single point of entry to interact with underlying Spark functionality and allows programming Spark with Dataframe and Dataset APIs. All the functionality available with **sparkContext** are also available in **sparkSession**. Write the code to create a sparkSession object, with 4 local cores. To create a sparkSession with 4 core you have to use configure it as *local[4]*. Give a name to your program using *appName()*."
   ]
  },
  {
   "cell_type": "code",
   "execution_count": 2,
   "metadata": {},
   "outputs": [],
   "source": [
    "# create entry points to spark\n",
    "sc = SparkContext.getOrCreate()\n",
    "\n",
    "# We will build a configuration \n",
    "conf = SparkConf()\n",
    "conf.set(\"spark.app.name\", \"Assignment 2\")\n",
    "conf.set(\"spark.master\", \"local[4]\")\n",
    "\n",
    "# If there is no existing spark context, we now create a new context\n",
    "if (sc is None):\n",
    "    sc = SparkContext(conf=conf)\n",
    "spark = SparkSession(sparkContext=sc)"
   ]
  },
  {
   "cell_type": "markdown",
   "metadata": {},
   "source": [
    "### Step 02: Load the dataset and print the schema and total number of entries\n",
    "In *sparkSession* you can use *spark_session.read.csv()* method to load data as CSV format. You can download the dataset from Moodle. After you load the csv file into a dataframe using spark session, write the code to print the total number of entries in the dataset."
   ]
  },
  {
   "cell_type": "code",
   "execution_count": 3,
   "metadata": {
    "scrolled": true
   },
   "outputs": [
    {
     "name": "stdout",
     "output_type": "stream",
     "text": [
      "The dataframe has: 142193 records\n"
     ]
    }
   ],
   "source": [
    "df_weatherAUS = spark.read.csv(\"weatherAUS.csv\", header = True)\n",
    "print('The dataframe has:',df_weatherAUS.count(), 'records')"
   ]
  },
  {
   "cell_type": "code",
   "execution_count": 4,
   "metadata": {},
   "outputs": [
    {
     "name": "stdout",
     "output_type": "stream",
     "text": [
      "root\n",
      " |-- Date: string (nullable = true)\n",
      " |-- Location: string (nullable = true)\n",
      " |-- MinTemp: string (nullable = true)\n",
      " |-- MaxTemp: string (nullable = true)\n",
      " |-- Rainfall: string (nullable = true)\n",
      " |-- Evaporation: string (nullable = true)\n",
      " |-- Sunshine: string (nullable = true)\n",
      " |-- WindGustDir: string (nullable = true)\n",
      " |-- WindGustSpeed: string (nullable = true)\n",
      " |-- WindDir9am: string (nullable = true)\n",
      " |-- WindDir3pm: string (nullable = true)\n",
      " |-- WindSpeed9am: string (nullable = true)\n",
      " |-- WindSpeed3pm: string (nullable = true)\n",
      " |-- Humidity9am: string (nullable = true)\n",
      " |-- Humidity3pm: string (nullable = true)\n",
      " |-- Pressure9am: string (nullable = true)\n",
      " |-- Pressure3pm: string (nullable = true)\n",
      " |-- Cloud9am: string (nullable = true)\n",
      " |-- Cloud3pm: string (nullable = true)\n",
      " |-- Temp9am: string (nullable = true)\n",
      " |-- Temp3pm: string (nullable = true)\n",
      " |-- RainToday: string (nullable = true)\n",
      " |-- RainTomorrow: string (nullable = true)\n",
      "\n"
     ]
    }
   ],
   "source": [
    "df_weatherAUS.printSchema()"
   ]
  },
  {
   "cell_type": "markdown",
   "metadata": {},
   "source": [
    "## B. Data Cleaning and Processing\n",
    "Data cleaning and processing is an important aspect for any machine learning task. We have to carefully look into the data and based on the types, quality of the data, we have to plan our cleaning procedures.\n",
    "\n",
    "### Step 03: Delete columns from the dataset\n",
    "During the data cleaning and processing phase, we delete unnecessary data from the dataset to improve the efficiency and accuracy of our model. You have to think which columns are not contributing to the rain prediction. To keep things simple, you are required to delete the following columns due to data quality and accuracy.\n",
    "- Date\n",
    "- Location\n",
    "- Evaporation\n",
    "- Sunshine\n",
    "- Cloud9am\n",
    "- Cloud3pm\n",
    "- Temp9am\n",
    "- Temp3pm <br>\n",
    "However, if you want to keep any of these columns, you can keep them if you process them in an intelligent way that improve the accuracy, that is fine, **however not mandatory**."
   ]
  },
  {
   "cell_type": "code",
   "execution_count": 5,
   "metadata": {},
   "outputs": [
    {
     "data": {
      "text/plain": [
       "['MinTemp',\n",
       " 'MaxTemp',\n",
       " 'Rainfall',\n",
       " 'WindGustDir',\n",
       " 'WindGustSpeed',\n",
       " 'WindDir9am',\n",
       " 'WindDir3pm',\n",
       " 'WindSpeed9am',\n",
       " 'WindSpeed3pm',\n",
       " 'Humidity9am',\n",
       " 'Humidity3pm',\n",
       " 'Pressure9am',\n",
       " 'Pressure3pm',\n",
       " 'RainToday',\n",
       " 'RainTomorrow']"
      ]
     },
     "execution_count": 5,
     "metadata": {},
     "output_type": "execute_result"
    }
   ],
   "source": [
    "df_weatherAUS_clean = df_weatherAUS.drop(*[\"Date\", \"Location\", \"Evaporation\",\n",
    "                                           \"Sunshine\",\"Cloud9am\", \"Cloud3pm\",\"Temp9am\",\"Temp3pm\"])\n",
    "df_weatherAUS_clean.columns"
   ]
  },
  {
   "cell_type": "markdown",
   "metadata": {},
   "source": [
    "### Step 04: Print the number of missing data in each column.\n",
    "We already have an initial idea about the data structure from the schema. Even in plain eyes, we can observe that there are lots of NA (null) values in the given dataset. Your job in this step is to print the number of NA(null) values in each column."
   ]
  },
  {
   "cell_type": "markdown",
   "metadata": {},
   "source": [
    "<font color = \"green\"><b>\n",
    "Firstly, we will use the method the built-in method <i>isnan</i>, that will return what is being recognized as a null in the dataframe, associated with the count function. "
   ]
  },
  {
   "cell_type": "code",
   "execution_count": 6,
   "metadata": {},
   "outputs": [
    {
     "name": "stdout",
     "output_type": "stream",
     "text": [
      "+-------+-------+--------+-----------+-------------+----------+----------+------------+------------+-----------+-----------+-----------+-----------+---------+------------+\n",
      "|MinTemp|MaxTemp|Rainfall|WindGustDir|WindGustSpeed|WindDir9am|WindDir3pm|WindSpeed9am|WindSpeed3pm|Humidity9am|Humidity3pm|Pressure9am|Pressure3pm|RainToday|RainTomorrow|\n",
      "+-------+-------+--------+-----------+-------------+----------+----------+------------+------------+-----------+-----------+-----------+-----------+---------+------------+\n",
      "|      0|      0|       0|          0|            0|         0|         0|           0|           0|          0|          0|          0|          0|        0|           0|\n",
      "+-------+-------+--------+-----------+-------------+----------+----------+------------+------------+-----------+-----------+-----------+-----------+---------+------------+\n",
      "\n"
     ]
    }
   ],
   "source": [
    "# counting nas\n",
    "df_weatherAUS_clean.select([count(when(isnan(c), c)).alias(c) for c in df_weatherAUS_clean.columns]).show()"
   ]
  },
  {
   "cell_type": "markdown",
   "metadata": {},
   "source": [
    "<font color = \"green\"><b>\n",
    "Since we haven't found any null value, we will count 'NAs', as was asked in the question. Our approach now will be to search for strings that are equal to this characters."
   ]
  },
  {
   "cell_type": "code",
   "execution_count": 7,
   "metadata": {},
   "outputs": [
    {
     "name": "stdout",
     "output_type": "stream",
     "text": [
      "MinTemp : 637\n",
      "MaxTemp : 322\n",
      "Rainfall : 1406\n",
      "WindGustDir : 9330\n",
      "WindGustSpeed : 9270\n",
      "WindDir9am : 10013\n",
      "WindDir3pm : 3778\n",
      "WindSpeed9am : 1348\n",
      "WindSpeed3pm : 2630\n",
      "Humidity9am : 1774\n",
      "Humidity3pm : 3610\n",
      "Pressure9am : 14014\n",
      "Pressure3pm : 13981\n",
      "RainToday : 1406\n",
      "RainTomorrow : 0\n"
     ]
    }
   ],
   "source": [
    "# create a function\n",
    "def countNA(df):\n",
    "    for column in df.columns:  \n",
    "        print(column, \":\", df.filter(df[column] == 'NA').count())\n",
    "\n",
    "countNA(df_weatherAUS_clean)"
   ]
  },
  {
   "cell_type": "markdown",
   "metadata": {},
   "source": [
    "<font color = \"green\"><b>\n",
    "With the exception of the column RainTomorrow, all columns have NA's, some more than others. We will proceed assuming this are all null values in the dataframe."
   ]
  },
  {
   "cell_type": "markdown",
   "metadata": {},
   "source": [
    "### Step 05: Fill the missing data with average value and maximum occurrence value.\n",
    "In this step you have to fill in all the missing data with average value (for numeric column) or maximum frequency value (for non-numeric column). Firstly, identify the columns which have numeric values (e.g., MinTemp, MaxTemp), calculate the average and fill the null value with the average."
   ]
  },
  {
   "cell_type": "markdown",
   "metadata": {},
   "source": [
    "<font color = \"green\"><b>\n",
    "As we have seen in step 2 with the printSchema(), all columns are caracterized as string. To identify the columns that numerical and categorical we will print the first row and make the classification by eye. "
   ]
  },
  {
   "cell_type": "code",
   "execution_count": 8,
   "metadata": {},
   "outputs": [
    {
     "data": {
      "text/plain": [
       "[Row(MinTemp='13.4', MaxTemp='22.9', Rainfall='0.6', WindGustDir='W', WindGustSpeed='44', WindDir9am='W', WindDir3pm='WNW', WindSpeed9am='20', WindSpeed3pm='24', Humidity9am='71', Humidity3pm='22', Pressure9am='1007.7', Pressure3pm='1007.1', RainToday='No', RainTomorrow='No')]"
      ]
     },
     "execution_count": 8,
     "metadata": {},
     "output_type": "execute_result"
    }
   ],
   "source": [
    "# Print first row to identify categorical and numerical values\n",
    "df_weatherAUS_clean.take(1)"
   ]
  },
  {
   "cell_type": "code",
   "execution_count": 9,
   "metadata": {},
   "outputs": [],
   "source": [
    "# Create lists for numerical and categorical columns \n",
    "numerical_cols = ['MinTemp','MaxTemp','Rainfall','WindGustSpeed', 'WindSpeed9am', 'WindSpeed3pm', 'Humidity9am',\n",
    "                  'Humidity3pm', 'Pressure9am', 'Pressure3pm']\n",
    "\n",
    "categorical_cols = ['WindGustDir','WindDir9am','WindDir3pm','RainToday','RainTomorrow']"
   ]
  },
  {
   "cell_type": "markdown",
   "metadata": {},
   "source": [
    "<font color = \"green\"><b>\n",
    "To find the average of numerical columns the method <i>describe</i> will be used, as it is particularly to find stats data from dataframes. "
   ]
  },
  {
   "cell_type": "code",
   "execution_count": 10,
   "metadata": {},
   "outputs": [
    {
     "name": "stdout",
     "output_type": "stream",
     "text": [
      "('summary', 'mean')\n",
      "('MinTemp', '12.186399728729098')\n",
      "('MaxTemp', '23.226784191272444')\n",
      "('Rainfall', '2.3499740743111954')\n",
      "('WindGustSpeed', '39.98429165757619')\n",
      "('WindSpeed9am', '14.001988000994')\n",
      "('WindSpeed3pm', '18.63757586179718')\n",
      "('Humidity9am', '68.8438103105705')\n",
      "('Humidity3pm', '51.482606091656265')\n",
      "('Pressure9am', '1017.6537584159781')\n",
      "('Pressure3pm', '1015.258203537907')\n"
     ]
    }
   ],
   "source": [
    "# Extracting information of mean \n",
    "df_summary = df_weatherAUS_clean.select(numerical_cols).describe().collect()\n",
    "mean_list = df_summary[1] # extracting mean list - the column index 1 has the values of means\n",
    "\n",
    "for item in mean_list.asDict().items():    \n",
    "    print(item)"
   ]
  },
  {
   "cell_type": "markdown",
   "metadata": {},
   "source": [
    "<font color = \"green\"><b>\n",
    "Unfortunately, the same method cannot be used to find the maximum frequency and another approach must be taken. A groupby with count sorted will return the maximum frequency values."
   ]
  },
  {
   "cell_type": "code",
   "execution_count": 11,
   "metadata": {},
   "outputs": [
    {
     "name": "stdout",
     "output_type": "stream",
     "text": [
      "WindGustDir : W\n",
      "WindDir9am : N\n",
      "WindDir3pm : SE\n",
      "RainToday : No\n",
      "RainTomorrow : No\n"
     ]
    }
   ],
   "source": [
    "# Extracting information of mode \n",
    "count_list = []\n",
    "for column in categorical_cols:\n",
    "    df = df_weatherAUS_clean.groupBy(column).count()\n",
    "    mode = df.orderBy(df['count'].desc()).collect()[0][0]\n",
    "    count_list.append(mode)\n",
    "    print(column, \":\", mode)"
   ]
  },
  {
   "cell_type": "markdown",
   "metadata": {},
   "source": [
    "<font color = \"green\"><b>\n",
    "In our next step we will make the replacements using the lists that we just generated, `mean_list`and `count_list`. "
   ]
  },
  {
   "cell_type": "code",
   "execution_count": 12,
   "metadata": {},
   "outputs": [],
   "source": [
    "for column in numerical_cols:\n",
    "    df_weatherAUS_clean = df_weatherAUS_clean.withColumn(column, regexp_replace(column, 'NA', mean_list[column]))\n",
    "\n",
    "support_count = 0    \n",
    "for column in categorical_cols:\n",
    "    df_weatherAUS_clean = df_weatherAUS_clean.withColumn(column, regexp_replace(column, 'NA', count_list[support_count]))\n",
    "    support_count += 1"
   ]
  },
  {
   "cell_type": "markdown",
   "metadata": {},
   "source": [
    "<font color = \"green\"><b>\n",
    "Using the function created in step 4, `countNA`, lets check if the replacement was successful.  "
   ]
  },
  {
   "cell_type": "code",
   "execution_count": 13,
   "metadata": {
    "scrolled": true
   },
   "outputs": [
    {
     "name": "stdout",
     "output_type": "stream",
     "text": [
      "MinTemp : 0\n",
      "MaxTemp : 0\n",
      "Rainfall : 0\n",
      "WindGustDir : 0\n",
      "WindGustSpeed : 0\n",
      "WindDir9am : 0\n",
      "WindDir3pm : 0\n",
      "WindSpeed9am : 0\n",
      "WindSpeed3pm : 0\n",
      "Humidity9am : 0\n",
      "Humidity3pm : 0\n",
      "Pressure9am : 0\n",
      "Pressure3pm : 0\n",
      "RainToday : 0\n",
      "RainTomorrow : 0\n"
     ]
    }
   ],
   "source": [
    "countNA(df_weatherAUS_clean)"
   ]
  },
  {
   "cell_type": "markdown",
   "metadata": {},
   "source": [
    "### Step 06: Data transformation\n",
    "In this step, you need to transform the data so that it will be useful to process by\n",
    "the machine learning algorithm. Before transforming your non-numerical data, do the\n",
    "type casting (to double) of the numerical value columns as they are defined as “String”\n",
    "(see, the schema of the dataset). For the non-numerical value column (i.e., WindGustDir,\n",
    "WindDir9am, WindDir3pm, RainTomorrow) use the StringIndexer method to convert\n",
    "them into numbers."
   ]
  },
  {
   "cell_type": "code",
   "execution_count": 14,
   "metadata": {},
   "outputs": [
    {
     "name": "stdout",
     "output_type": "stream",
     "text": [
      "root\n",
      " |-- MinTemp: double (nullable = true)\n",
      " |-- MaxTemp: double (nullable = true)\n",
      " |-- Rainfall: double (nullable = true)\n",
      " |-- WindGustSpeed: double (nullable = true)\n",
      " |-- WindSpeed9am: double (nullable = true)\n",
      " |-- WindSpeed3pm: double (nullable = true)\n",
      " |-- Humidity9am: double (nullable = true)\n",
      " |-- Humidity3pm: double (nullable = true)\n",
      " |-- Pressure9am: double (nullable = true)\n",
      " |-- Pressure3pm: double (nullable = true)\n",
      " |-- WindGustDirindex: double (nullable = false)\n",
      " |-- WindDir9amindex: double (nullable = false)\n",
      " |-- WindDir3pmindex: double (nullable = false)\n",
      " |-- RainTodayindex: double (nullable = false)\n",
      " |-- RainTomorrowindex: double (nullable = false)\n",
      "\n"
     ]
    }
   ],
   "source": [
    "# conversion of column type\n",
    "for column in numerical_cols:\n",
    "    df_weatherAUS_clean = df_weatherAUS_clean.withColumn(column, df_weatherAUS_clean[column].cast('double'))\n",
    "\n",
    "for column in categorical_cols:\n",
    "    l_indexer = StringIndexer(inputCol = column, outputCol = column+\"index\")\n",
    "    df_weatherAUS_clean = l_indexer.fit(df_weatherAUS_clean).transform(df_weatherAUS_clean)\n",
    "    df_weatherAUS_clean = df_weatherAUS_clean.drop(column) # dropping the column \n",
    "    \n",
    "df_weatherAUS_clean.printSchema()"
   ]
  },
  {
   "cell_type": "markdown",
   "metadata": {},
   "source": [
    "<font color = \"green\"><b>\n",
    "The printSchema demonstrates that the task has been successful. We have:\n",
    "- Converted all numerical columns to double\n",
    "- Created indexcolumns type double with numerical values replacing previous strings\n",
    "- Droped previous categorical columns "
   ]
  },
  {
   "cell_type": "markdown",
   "metadata": {},
   "source": [
    "### Step 07: Create the feature vector and divide the dataset\n",
    "In this step, you have to create the feature vector from the given columns. When\n",
    "you create you feature vector, remember to exclude the column that you will be using\n",
    "for testing the accuracy of your model.\n",
    "After creation of your feature vector, you have ​ to split your dataset into two (e.g., training\n",
    "and testing). In this assignment, you have to spit the dataset randomly and between 70\n",
    "percent and 30 percent."
   ]
  },
  {
   "cell_type": "markdown",
   "metadata": {},
   "source": [
    "<font color = \"green\"><b>\n",
    "To create a feature vector we will use the functions `VectorAssembler and vector_assembler.transform`. Once the colum is created and the others are droped the new dataframe will be printed."
   ]
  },
  {
   "cell_type": "code",
   "execution_count": 15,
   "metadata": {},
   "outputs": [
    {
     "name": "stdout",
     "output_type": "stream",
     "text": [
      "+-----------------+--------------------+\n",
      "|RainTomorrowindex|            features|\n",
      "+-----------------+--------------------+\n",
      "|              0.0|[13.4,22.9,0.6,44...|\n",
      "|              0.0|[7.4,25.1,0.0,44....|\n",
      "|              0.0|[12.9,25.7,0.0,46...|\n",
      "+-----------------+--------------------+\n",
      "only showing top 3 rows\n",
      "\n"
     ]
    }
   ],
   "source": [
    "vector_assembler = VectorAssembler(\n",
    "    inputCols=[\"MinTemp\", \"MaxTemp\", \"Rainfall\", \"WindGustSpeed\",\"WindSpeed9am\",\n",
    "                \"WindSpeed3pm\", \"Humidity9am\", \"Humidity3pm\", \"Pressure9am\",\"Pressure3pm\",\n",
    "               \"WindGustDirindex\", \"WindDir9amindex\",\"WindDir3pmindex\", \"RainTodayindex\"],\n",
    "    outputCol=\"features\")\n",
    "\n",
    "\n",
    "df_weatherAUS_clean = vector_assembler.transform(df_weatherAUS_clean)\n",
    "\n",
    "# Drop all unwanted columns \n",
    "cols_list = [\"features\", \"RainTomorrowindex\"]\n",
    "df_weatherAUS_clean = df_weatherAUS_clean.select([cols for cols in df_weatherAUS_clean.columns if cols in cols_list])\n",
    "\n",
    "df_weatherAUS_clean.show(3)"
   ]
  },
  {
   "cell_type": "markdown",
   "metadata": {},
   "source": [
    "<font color = \"green\"><b>\n",
    "Great, now we will split the data in train and test using `randomSplit`. "
   ]
  },
  {
   "cell_type": "code",
   "execution_count": 16,
   "metadata": {},
   "outputs": [],
   "source": [
    "(trainingData, testData) = df_weatherAUS_clean.randomSplit([0.7, 0.3], seed = 1234)"
   ]
  },
  {
   "cell_type": "markdown",
   "metadata": {},
   "source": [
    "# C. Apply Machine Learning Algorithms\n",
    "**Step 08: Apply machine learning classification algorithms on the dataset and\n",
    "compare their accuracy. Plot the accuracy as bar graph.**<br>\n",
    "You have to use ​ DecisionTreeClassifier(), RandomForestClassifier(), and\n",
    "LogisticRegression(), GBTClassifier() methods in spark to calculate the probability of the\n",
    "rain fall tomorrow based on the other related data points (e.g., temperature, wind,\n",
    "humidity). Finally, you have to draw the graph (e.g. bar chart) to demonstrate the\n",
    "comparison of their accuracy."
   ]
  },
  {
   "cell_type": "markdown",
   "metadata": {},
   "source": [
    "<font color = \"green\"><b>\n",
    "Create a evaluator `MulticlassClassificationEvaluator` to calculate accuracy."
   ]
  },
  {
   "cell_type": "code",
   "execution_count": 17,
   "metadata": {},
   "outputs": [],
   "source": [
    "evaluator = MulticlassClassificationEvaluator(labelCol=\"RainTomorrowindex\", \n",
    "                                              predictionCol=\"prediction\", metricName=\"accuracy\")"
   ]
  },
  {
   "cell_type": "markdown",
   "metadata": {},
   "source": [
    "<font color = \"green\"><b>\n",
    "Now we will apply similar methods to create models as asked. A new dataframe will be genareted from the trainning data for each classifier and accuracy will be calculated in sequence."
   ]
  },
  {
   "cell_type": "markdown",
   "metadata": {},
   "source": [
    "<font color = \"green\"><b>\n",
    "Decision Tree Classifier"
   ]
  },
  {
   "cell_type": "code",
   "execution_count": 18,
   "metadata": {},
   "outputs": [
    {
     "name": "stdout",
     "output_type": "stream",
     "text": [
      "+----------+-----------------+\n",
      "|prediction|RainTomorrowindex|\n",
      "+----------+-----------------+\n",
      "|       0.0|              0.0|\n",
      "|       0.0|              0.0|\n",
      "|       0.0|              0.0|\n",
      "|       0.0|              0.0|\n",
      "|       0.0|              0.0|\n",
      "+----------+-----------------+\n",
      "only showing top 5 rows\n",
      "\n",
      "Test Error = 0.164488 \n",
      "Accuracy 0.8355119056030523\n"
     ]
    }
   ],
   "source": [
    "dt = DecisionTreeClassifier(labelCol=\"RainTomorrowindex\", featuresCol=\"features\", seed = 1000)\n",
    "\n",
    "dt_model = dt.fit(trainingData)\n",
    "\n",
    "dt_predictions = dt_model.transform(testData)\n",
    "\n",
    "dt_predictions.select(\"prediction\", \"RainTomorrowindex\").show(5)\n",
    "\n",
    "dt_accuracy = evaluator.evaluate(dt_predictions)\n",
    "\n",
    "print(\"Test Error = %g \" % (1.0 - dt_accuracy))\n",
    "print(\"Accuracy\", dt_accuracy)"
   ]
  },
  {
   "cell_type": "markdown",
   "metadata": {},
   "source": [
    "<font color = \"green\"><b>\n",
    "Random Forest Classifier"
   ]
  },
  {
   "cell_type": "code",
   "execution_count": 19,
   "metadata": {},
   "outputs": [
    {
     "name": "stdout",
     "output_type": "stream",
     "text": [
      "+----------+-----------------+\n",
      "|prediction|RainTomorrowindex|\n",
      "+----------+-----------------+\n",
      "|       0.0|              0.0|\n",
      "|       0.0|              0.0|\n",
      "|       0.0|              0.0|\n",
      "|       0.0|              0.0|\n",
      "|       0.0|              0.0|\n",
      "+----------+-----------------+\n",
      "only showing top 5 rows\n",
      "\n",
      "Test Error = 0.164135\n",
      "Accuracy 0.8358651875927365\n"
     ]
    }
   ],
   "source": [
    "rf = RandomForestClassifier(labelCol=\"RainTomorrowindex\", featuresCol=\"features\", numTrees=10, seed = 1000)\n",
    "rf_model = rf.fit(trainingData)\n",
    "\n",
    "rf_predictions = rf_model.transform(testData)\n",
    "\n",
    "rf_predictions.select(\"prediction\", \"RainTomorrowindex\").show(5)\n",
    "\n",
    "rf_accuracy = evaluator.evaluate(rf_predictions)\n",
    "\n",
    "print(\"Test Error = %g\" % (1.0 - rf_accuracy))\n",
    "print(\"Accuracy\", rf_accuracy)"
   ]
  },
  {
   "cell_type": "markdown",
   "metadata": {},
   "source": [
    "<font color = \"green\"><b>\n",
    "Logistic Regression"
   ]
  },
  {
   "cell_type": "code",
   "execution_count": 20,
   "metadata": {},
   "outputs": [
    {
     "name": "stdout",
     "output_type": "stream",
     "text": [
      "+----------+-----------------+\n",
      "|prediction|RainTomorrowindex|\n",
      "+----------+-----------------+\n",
      "|       0.0|              0.0|\n",
      "|       0.0|              0.0|\n",
      "|       0.0|              0.0|\n",
      "|       0.0|              0.0|\n",
      "|       0.0|              0.0|\n",
      "+----------+-----------------+\n",
      "only showing top 5 rows\n",
      "\n",
      "Test Error = 0.183801\n",
      "Accuracy 0.8161991568336513\n"
     ]
    }
   ],
   "source": [
    "lr = LogisticRegression(featuresCol = 'features', labelCol = 'RainTomorrowindex', maxIter=10)\n",
    "lr_model = lr.fit(trainingData)\n",
    "\n",
    "lr_predictions = lr_model.transform(testData)\n",
    "\n",
    "lr_predictions.select(\"prediction\", \"RainTomorrowindex\").show(5)\n",
    "\n",
    "lr_accuracy = evaluator.evaluate(lr_predictions)\n",
    "\n",
    "print(\"Test Error = %g\" % (1.0 - lr_accuracy))\n",
    "print(\"Accuracy\", lr_accuracy)"
   ]
  },
  {
   "cell_type": "markdown",
   "metadata": {},
   "source": [
    "<font color = \"green\"><b>\n",
    "GBT Classifier"
   ]
  },
  {
   "cell_type": "code",
   "execution_count": 21,
   "metadata": {},
   "outputs": [
    {
     "name": "stdout",
     "output_type": "stream",
     "text": [
      "+----------+-----------------+\n",
      "|prediction|RainTomorrowindex|\n",
      "+----------+-----------------+\n",
      "|       0.0|              0.0|\n",
      "|       0.0|              0.0|\n",
      "|       0.0|              0.0|\n",
      "|       0.0|              0.0|\n",
      "|       0.0|              0.0|\n",
      "+----------+-----------------+\n",
      "only showing top 5 rows\n",
      "\n",
      "Test Error = 0.158765\n",
      "Accuracy 0.8412350738359359\n"
     ]
    }
   ],
   "source": [
    "gbt = GBTClassifier(featuresCol = 'features', labelCol = 'RainTomorrowindex', maxIter=10, seed = 1000)\n",
    "gbt_model = gbt.fit(trainingData)\n",
    "\n",
    "gbt_predictions = gbt_model.transform(testData)\n",
    "\n",
    "gbt_predictions.select(\"prediction\", \"RainTomorrowindex\").show(5)\n",
    "\n",
    "gbt_accuracy = evaluator.evaluate(gbt_predictions)\n",
    "\n",
    "print(\"Test Error = %g\" % (1.0 - gbt_accuracy))\n",
    "print(\"Accuracy\", gbt_accuracy)"
   ]
  },
  {
   "cell_type": "markdown",
   "metadata": {},
   "source": [
    "<font color = \"green\"><b>\n",
    "Plotting the Accuracies"
   ]
  },
  {
   "cell_type": "code",
   "execution_count": 22,
   "metadata": {},
   "outputs": [
    {
     "data": {
      "image/png": "[encoded data removed]",
      "text/plain": [
       "<Figure size 504x360 with 1 Axes>"
      ]
     },
     "metadata": {
      "needs_background": "light"
     },
     "output_type": "display_data"
    }
   ],
   "source": [
    "plt.figure(figsize=(7,5))\n",
    "\n",
    "model = [lr_accuracy, dt_accuracy, rf_accuracy, gbt_accuracy]\n",
    "bars = ( 'Logistic Regression', 'Decision Tree', 'Random Forest', 'GBT')\n",
    "y_pos = np.arange(len(bars))\n",
    "\n",
    "plt.title('Comparative Chart of ML models Accuracy', fontsize = 17)\n",
    "plt.ylabel('Accuracy')\n",
    "plt.xlabel('ML Model')\n",
    "plt.ylim(0.81, 0.85)\n",
    "plt.grid(linestyle='-', linewidth='0.5', color='grey')\n",
    "\n",
    "plt.bar(y_pos, model, color=['black', 'red', 'green', 'blue'])\n",
    "plt.xticks(y_pos, bars)\n",
    "plt.show()\n"
   ]
  },
  {
   "cell_type": "markdown",
   "metadata": {},
   "source": [
    "<font color = \"green\"><b>\n",
    "We can observe in the plot that the GBT model had the best accuracy, followed by Random forest, Decision Tree and finally Logistic Regression. Nevertheless, all accuracies are quite similar, in a range between 0.81 and 0.85."
   ]
  },
  {
   "cell_type": "markdown",
   "metadata": {},
   "source": [
    "**Step 09: Calculate the confusion matrix and find the precision, recall, and F1\n",
    "score of each classification algorithm. Explain how the accuracy of the\n",
    "predication can be improved?**<br>\n",
    "    Finding the accuracy of the model does not always represent the quality of the\n",
    "model for a given dataset. Number of false positive and false negative identification also\n",
    "plays an important role when we decide about any particular classification model. The\n",
    "way we can calculate is called confusion matrix. You can use confusionMatrix() method\n",
    "to calculate the confusion matrix. From the confusion matrix show the precision, recall\n",
    "and f1 score of each classification model. Explain how you can improve the accuracy of\n",
    "the ​ prediction​ ."
   ]
  },
  {
   "cell_type": "code",
   "execution_count": 28,
   "metadata": {},
   "outputs": [],
   "source": [
    "def printstats(RDD):\n",
    "    \n",
    "    metrics = MulticlassMetrics(RDD)\n",
    "    Confusion_matrix = metrics.confusionMatrix().toArray()\n",
    "\n",
    "    print(\"Confusion Matrix\\n\")\n",
    "    print(Confusion_matrix)    \n",
    "    print('\\n')\n",
    "    print('True Positives:',  Confusion_matrix[1][1])\n",
    "    print('False Positives:', Confusion_matrix[0][1])\n",
    "    print('False Negatives:', Confusion_matrix[1][0])\n",
    "    print('True Negatives:',  Confusion_matrix[0][0])\n",
    "    print('\\n')\n",
    "\n",
    "    precision = Confusion_matrix[1][1]/(Confusion_matrix[1][1] + Confusion_matrix[0][1])   \n",
    "    recall = Confusion_matrix[1][1]/(Confusion_matrix[1][1] + Confusion_matrix[1][0])    \n",
    "    F1 = 2*precision*recall/(precision+recall)\n",
    "    \n",
    "    print('Precision:', precision)    \n",
    "    print('Recall:', recall)\n",
    "    print('F1:',  F1)\n",
    "    print('\\n')\n"
   ]
  },
  {
   "cell_type": "markdown",
   "metadata": {},
   "source": [
    "<font color = \"green\"><b>\n",
    "Evaluation of Decision Tree Model"
   ]
  },
  {
   "cell_type": "code",
   "execution_count": 29,
   "metadata": {},
   "outputs": [
    {
     "name": "stdout",
     "output_type": "stream",
     "text": [
      "Confusion Matrix\n",
      "\n",
      "[[31850.  1117.]\n",
      " [ 5867.  3625.]]\n",
      "\n",
      "\n",
      "True Positives: 3625.0\n",
      "False Positives: 1117.0\n",
      "False Negatives: 5867.0\n",
      "True Negatives: 31850.0\n",
      "\n",
      "\n",
      "Precision: 0.7644453816954871\n",
      "Recall: 0.38190054782975136\n",
      "F1: 0.5093438246452157\n",
      "\n",
      "\n"
     ]
    }
   ],
   "source": [
    "dt_pred_RDD = dt_predictions.select(\"prediction\", \"RainTomorrowindex\").rdd.map(lambda line: (line[0], line[1]))\n",
    "printstats(dt_pred_RDD)"
   ]
  },
  {
   "cell_type": "markdown",
   "metadata": {},
   "source": [
    "<font color = \"green\"><b>\n",
    "Evaluation of Random Forest"
   ]
  },
  {
   "cell_type": "code",
   "execution_count": 30,
   "metadata": {},
   "outputs": [
    {
     "name": "stdout",
     "output_type": "stream",
     "text": [
      "Confusion Matrix\n",
      "\n",
      "[[31802.  1165.]\n",
      " [ 5804.  3688.]]\n",
      "\n",
      "\n",
      "True Positives: 3688.0\n",
      "False Positives: 1165.0\n",
      "False Negatives: 5804.0\n",
      "True Negatives: 31802.0\n",
      "\n",
      "\n",
      "Precision: 0.7599423037296518\n",
      "Recall: 0.3885377159713443\n",
      "F1: 0.514186127570582\n",
      "\n",
      "\n"
     ]
    }
   ],
   "source": [
    "rf_pred_RDD = rf_predictions.select(\"prediction\", \"RainTomorrowindex\").rdd.map(lambda line: (line[0], line[1]))\n",
    "printstats(rf_pred_RDD)"
   ]
  },
  {
   "cell_type": "markdown",
   "metadata": {},
   "source": [
    "<font color = \"green\"><b>\n",
    "\n",
    "Evaluation of Logistic Regression"
   ]
  },
  {
   "cell_type": "code",
   "execution_count": 31,
   "metadata": {},
   "outputs": [
    {
     "name": "stdout",
     "output_type": "stream",
     "text": [
      "Confusion Matrix\n",
      "\n",
      "[[30616.  2351.]\n",
      " [ 5453.  4039.]]\n",
      "\n",
      "\n",
      "True Positives: 4039.0\n",
      "False Positives: 2351.0\n",
      "False Negatives: 5453.0\n",
      "True Negatives: 30616.0\n",
      "\n",
      "\n",
      "Precision: 0.6320813771517997\n",
      "Recall: 0.42551622418879054\n",
      "F1: 0.5086261176174286\n",
      "\n",
      "\n"
     ]
    }
   ],
   "source": [
    "lr_pred_RDD = lr_predictions.select(\"prediction\", \"RainTomorrowindex\").rdd.map(lambda line: (line[0], line[1]))\n",
    "printstats(lr_pred_RDD)"
   ]
  },
  {
   "cell_type": "markdown",
   "metadata": {},
   "source": [
    "<font color = \"green\"><b>\n",
    "Evaluation of GBT"
   ]
  },
  {
   "cell_type": "code",
   "execution_count": 32,
   "metadata": {},
   "outputs": [
    {
     "name": "stdout",
     "output_type": "stream",
     "text": [
      "Confusion Matrix\n",
      "\n",
      "[[31474.  1493.]\n",
      " [ 5248.  4244.]]\n",
      "\n",
      "\n",
      "True Positives: 4244.0\n",
      "False Positives: 1493.0\n",
      "False Negatives: 5248.0\n",
      "True Negatives: 31474.0\n",
      "\n",
      "\n",
      "Precision: 0.739759456161757\n",
      "Recall: 0.4471133586177834\n",
      "F1: 0.5573576728609889\n",
      "\n",
      "\n"
     ]
    }
   ],
   "source": [
    "GBT_pred_RDD = gbt_predictions.select(\"prediction\", \"RainTomorrowindex\").rdd.map(lambda line: (line[0], line[1]))\n",
    "printstats(GBT_pred_RDD)"
   ]
  },
  {
   "cell_type": "markdown",
   "metadata": {},
   "source": [
    "<font color = \"green\"><b>\n",
    "Improving model accuracy: To improve the accuracy of machine learning models there are many possible approaches, altough none of then are guarateed to work. \n",
    "\n",
    "- Firstly, if possible, adding more data will much likely contribute to a better model accuracy. \n",
    "- We could investigate if there was a better approach to handle missing data. For instance, to replace missing categorical missing values, a multinomial logistic regression, or a K Nearest Neighbors regression could be tried. In respect to numerical values, a simple regression would possibly be better than replacing by the mean. Also, may be they are not \"missing at random\", which means there is a specific reason the data is missing, and once it is found it possibile to make a better rule for replacement than the one that were used.  \n",
    "- Investigating and eliminating outliers is also a possibility, as they may generate bias to the model.\n",
    "- Feature selection, and I would like to point out this as the most relevant at this point. As we can see in this [link](https://datascienceplus.com/weather-forecast-with-regression-models-part-1/), some of the columns shouldn't have been excluded, specially `Cloud9am` and`Cloud3pm`. This conclusion came from the fact that this variables have different distributions on days before rain and before sunny days, which indicates they can have a good predictive power.\n",
    "- Finally another option would be to algorithm Tuning, which mean work on the hyperparameters of the models and try to improve the accuracy. For instance, in a random forest a key parameter is the number of trees, so we should raise the number of trees significantly, but with care, otherwise we can start overfitting the model and accuracy will decrease. With respects to Decision Trees, increasing the parameter max_depth also can be used to improve accuracy, specially when there are many features and complex data (but with concerns to overffiting). Gradient boost trees can be improved by Tree-Specific Parameters, they affect each individual tree in the model, Boosting Parameters, that affect the boosting operation in the model and Miscellaneous Parameters, other parameters for overall functioning. Increasing the parameter min_samples_leaf, for instance, would be a fear try to increase accuracy, as there are many feautures being modelled. In respect to logistic Regression the best parameter to target is 'maxiter'.<br><br><br><br>\n",
    "\n",
    "References:<br>\n",
    "https://towardsdatascience.com/how-to-handle-missing-data-8646b18db0d4 <br>\n",
    "https://www.analyticsvidhya.com/blog/2015/12/improve-machine-learning-results/ <br>\n",
    "https://datascienceplus.com/weather-forecast-with-regression-models-part-1/ <br>\n",
    "https://www.analyticsvidhya.com/blog/2016/02/complete-guide-parameter-tuning-gradient-boosting-gbm-python/\n"
   ]
  }
 ],
 "metadata": {
  "kernelspec": {
   "display_name": "Python 3",
   "language": "python",
   "name": "python3"
  },
  "language_info": {
   "codemirror_mode": {
    "name": "ipython",
    "version": 3
   },
   "file_extension": ".py",
   "mimetype": "text/x-python",
   "name": "python",
   "nbconvert_exporter": "python",
   "pygments_lexer": "ipython3",
   "version": "3.6.8"
  }
 },
 "nbformat": 4,
 "nbformat_minor": 2
}
